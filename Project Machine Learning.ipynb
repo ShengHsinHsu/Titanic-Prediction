{
 "cells": [
  {
   "cell_type": "markdown",
   "metadata": {},
   "source": [
    "# <font color='#29487d'> TOPIC </font>"
   ]
  },
  {
   "cell_type": "code",
   "execution_count": 1,
   "metadata": {},
   "outputs": [],
   "source": [
    "import pandas as pd\n",
    "from sklearn.model_selection import train_test_split\n",
    "import numpy as np\n",
    "from sklearn.tree import DecisionTreeClassifier\n",
    "from scipy import optimize\n",
    "import sys\n",
    "import matplotlib.pyplot as plt\n",
    "import matplotlib.pyplot as plt\n",
    "import seaborn as sns\n",
    "import math"
   ]
  },
  {
   "cell_type": "markdown",
   "metadata": {},
   "source": [
    "### <font color='#29487d'> Linear Regression Algorithm</font>"
   ]
  },
  {
   "cell_type": "code",
   "execution_count": 2,
   "metadata": {},
   "outputs": [],
   "source": [
    "## X, y = (examples, features)\n",
    "## Theta = (thetas,)\n",
    "class LinearRegression():\n",
    "    def __init__(self, reg_lambda = 0, eta = 0.01, niter=1500,):\n",
    "        self.reg_lambda = reg_lambda\n",
    "        self.eta = eta\n",
    "        self.niter = niter\n",
    "        self.theta = None\n",
    "        self.cost = []\n",
    "###################  Train the model  ##################\n",
    "    def fit(self,X, y):\n",
    "        X = np.concatenate((np.ones((X.shape[0],1)), X),1)\n",
    "        reg_lambda = self.reg_lambda\n",
    "        m = len(y)\n",
    "###################  Compute Cost Function for Linear Regression #################\n",
    "        def _cost(theta):\n",
    "            J = 0\n",
    "            theta = theta.reshape(theta.shape[0],1) \n",
    "            reg_penalty = reg_lambda/(2/m) * (theta[1:] ** 2).sum()\n",
    "            J = float(1)/(2*m) * ((X.dot(theta) - y) ** 2).sum() +  reg_penalty\n",
    "            return J\n",
    "        def _grad(theta):\n",
    "            self.cost = []\n",
    "            reg_penalty = reg_lambda/(m) * (theta[1:]).sum()\n",
    "            theta = theta.reshape(theta.shape[0],1) \n",
    "            grad = 1/(m) * np.transpose(X).dot((X.dot(theta).reshape(y.shape[0],y.shape[1]) - y)) +  reg_penalty\n",
    "            grad.reshape(grad.shape[0],)\n",
    "            return grad\n",
    "        \n",
    "################### Broyden-Fletcher-Goldfarb-Shanno Algorithm ###################\n",
    "        ## use this algorithm to converge gradient\n",
    "        #theta = np.zeros((X.shape[1],1))\n",
    "        theta = np.random.rand(X.shape[1],1)\n",
    "        self.cost.append(_cost(theta))\n",
    "\n",
    "        for i in range(0,self.niter+1):\n",
    "            grad = _grad(theta)\n",
    "            theta = theta - self.eta * grad\n",
    "            self.cost.append(_cost(theta))\n",
    "            print('\\rIteration:  %d || Cost : %f'  % (i , _cost(theta)), flush=True,end='')\n",
    "#         [xopt, fopt, gopt, Bopt, func_calls, grad_calls, warnflg] = optimize.fmin_cg(f=_cost,\n",
    "#                                                                                        x0=init_theta,\n",
    "#                                                                                        fprime=_grad,\n",
    "#                                                                                        disp=True,\n",
    "#                                                                                        maxiter = self.niter,\n",
    "#                                                                                        full_output=True,\n",
    "#                                                                                        retall=False)\n",
    "#         #xopt = optimize.minimize(fun=_cost, x0=init_theta, method='CG', jac=_grad)\n",
    "        print('\\nTheta is: ', end='')\n",
    "        for i in range(0, theta.shape[0]):\n",
    "            print('%f, ' % theta[i], end='')\n",
    "        print()\n",
    "        self.theta = theta\n",
    "        \n",
    "###################  Predict the New Data  ##################\n",
    "    def predict(self,newData):\n",
    "        if len(newData.shape) == 1:\n",
    "            newData = newData.reshape(newData.shape[0],1)\n",
    "        newData = np.concatenate((np.ones((newData.shape[0],1)), newData),1)\n",
    "        return newData.dot(self.theta)\n",
    "    def getCost(self):\n",
    "        return self.cost\n",
    "    def set_eta(self, eta):\n",
    "        self.cost = []\n",
    "        self.eta = eta\n",
    "    def set_niter(self, niter):\n",
    "        self.niter=niter\n",
    "    def set_panelty(self, p):\n",
    "        self.reg_lambda = p\n",
    "    def get_theta(self):\n",
    "        return self.theta"
   ]
  },
  {
   "cell_type": "markdown",
   "metadata": {},
   "source": [
    "# Introduce to the Features\n",
    " - ### Pclass: Ticket class\n",
    " - ### Sex: sex\n",
    " - ### Sex: \n",
    "    - #### 1 = Male \n",
    "    - #### 0 = Female\n",
    " - ### SibSp: Number of siblings/spouses aboard the Titanic\n",
    " - ### Parch: Number of parents/children aboard the Titanic\n",
    " - ### Ticket: Ticket number\n",
    " - ### Fare： Passenger fare\n",
    " - ### Cabin: Cabin number\n",
    " - ### Embarked: Port of Embarkation"
   ]
  },
  {
   "cell_type": "code",
   "execution_count": 3,
   "metadata": {},
   "outputs": [],
   "source": [
    "df = pd.read_csv('./train.csv')"
   ]
  },
  {
   "cell_type": "code",
   "execution_count": 4,
   "metadata": {},
   "outputs": [
    {
     "data": {
      "text/html": [
       "<div>\n",
       "<style scoped>\n",
       "    .dataframe tbody tr th:only-of-type {\n",
       "        vertical-align: middle;\n",
       "    }\n",
       "\n",
       "    .dataframe tbody tr th {\n",
       "        vertical-align: top;\n",
       "    }\n",
       "\n",
       "    .dataframe thead th {\n",
       "        text-align: right;\n",
       "    }\n",
       "</style>\n",
       "<table border=\"1\" class=\"dataframe\">\n",
       "  <thead>\n",
       "    <tr style=\"text-align: right;\">\n",
       "      <th></th>\n",
       "      <th>PassengerId</th>\n",
       "      <th>Survived</th>\n",
       "      <th>Pclass</th>\n",
       "      <th>Name</th>\n",
       "      <th>Sex</th>\n",
       "      <th>Age</th>\n",
       "      <th>SibSp</th>\n",
       "      <th>Parch</th>\n",
       "      <th>Ticket</th>\n",
       "      <th>Fare</th>\n",
       "      <th>Cabin</th>\n",
       "      <th>Embarked</th>\n",
       "    </tr>\n",
       "  </thead>\n",
       "  <tbody>\n",
       "    <tr>\n",
       "      <th>0</th>\n",
       "      <td>1</td>\n",
       "      <td>0</td>\n",
       "      <td>3</td>\n",
       "      <td>Braund, Mr. Owen Harris</td>\n",
       "      <td>male</td>\n",
       "      <td>22.0</td>\n",
       "      <td>1</td>\n",
       "      <td>0</td>\n",
       "      <td>A/5 21171</td>\n",
       "      <td>7.2500</td>\n",
       "      <td>NaN</td>\n",
       "      <td>S</td>\n",
       "    </tr>\n",
       "    <tr>\n",
       "      <th>1</th>\n",
       "      <td>2</td>\n",
       "      <td>1</td>\n",
       "      <td>1</td>\n",
       "      <td>Cumings, Mrs. John Bradley (Florence Briggs Th...</td>\n",
       "      <td>female</td>\n",
       "      <td>38.0</td>\n",
       "      <td>1</td>\n",
       "      <td>0</td>\n",
       "      <td>PC 17599</td>\n",
       "      <td>71.2833</td>\n",
       "      <td>C85</td>\n",
       "      <td>C</td>\n",
       "    </tr>\n",
       "    <tr>\n",
       "      <th>2</th>\n",
       "      <td>3</td>\n",
       "      <td>1</td>\n",
       "      <td>3</td>\n",
       "      <td>Heikkinen, Miss. Laina</td>\n",
       "      <td>female</td>\n",
       "      <td>26.0</td>\n",
       "      <td>0</td>\n",
       "      <td>0</td>\n",
       "      <td>STON/O2. 3101282</td>\n",
       "      <td>7.9250</td>\n",
       "      <td>NaN</td>\n",
       "      <td>S</td>\n",
       "    </tr>\n",
       "    <tr>\n",
       "      <th>3</th>\n",
       "      <td>4</td>\n",
       "      <td>1</td>\n",
       "      <td>1</td>\n",
       "      <td>Futrelle, Mrs. Jacques Heath (Lily May Peel)</td>\n",
       "      <td>female</td>\n",
       "      <td>35.0</td>\n",
       "      <td>1</td>\n",
       "      <td>0</td>\n",
       "      <td>113803</td>\n",
       "      <td>53.1000</td>\n",
       "      <td>C123</td>\n",
       "      <td>S</td>\n",
       "    </tr>\n",
       "    <tr>\n",
       "      <th>4</th>\n",
       "      <td>5</td>\n",
       "      <td>0</td>\n",
       "      <td>3</td>\n",
       "      <td>Allen, Mr. William Henry</td>\n",
       "      <td>male</td>\n",
       "      <td>35.0</td>\n",
       "      <td>0</td>\n",
       "      <td>0</td>\n",
       "      <td>373450</td>\n",
       "      <td>8.0500</td>\n",
       "      <td>NaN</td>\n",
       "      <td>S</td>\n",
       "    </tr>\n",
       "  </tbody>\n",
       "</table>\n",
       "</div>"
      ],
      "text/plain": [
       "   PassengerId  Survived  Pclass  \\\n",
       "0            1         0       3   \n",
       "1            2         1       1   \n",
       "2            3         1       3   \n",
       "3            4         1       1   \n",
       "4            5         0       3   \n",
       "\n",
       "                                                Name     Sex   Age  SibSp  \\\n",
       "0                            Braund, Mr. Owen Harris    male  22.0      1   \n",
       "1  Cumings, Mrs. John Bradley (Florence Briggs Th...  female  38.0      1   \n",
       "2                             Heikkinen, Miss. Laina  female  26.0      0   \n",
       "3       Futrelle, Mrs. Jacques Heath (Lily May Peel)  female  35.0      1   \n",
       "4                           Allen, Mr. William Henry    male  35.0      0   \n",
       "\n",
       "   Parch            Ticket     Fare Cabin Embarked  \n",
       "0      0         A/5 21171   7.2500   NaN        S  \n",
       "1      0          PC 17599  71.2833   C85        C  \n",
       "2      0  STON/O2. 3101282   7.9250   NaN        S  \n",
       "3      0            113803  53.1000  C123        S  \n",
       "4      0            373450   8.0500   NaN        S  "
      ]
     },
     "execution_count": 4,
     "metadata": {},
     "output_type": "execute_result"
    }
   ],
   "source": [
    "df.head()"
   ]
  },
  {
   "cell_type": "code",
   "execution_count": 5,
   "metadata": {},
   "outputs": [
    {
     "data": {
      "text/plain": [
       "['PassengerId',\n",
       " 'Survived',\n",
       " 'Pclass',\n",
       " 'Name',\n",
       " 'Sex',\n",
       " 'Age',\n",
       " 'SibSp',\n",
       " 'Parch',\n",
       " 'Ticket',\n",
       " 'Fare',\n",
       " 'Cabin',\n",
       " 'Embarked']"
      ]
     },
     "execution_count": 5,
     "metadata": {},
     "output_type": "execute_result"
    }
   ],
   "source": [
    "list(df.columns.values)"
   ]
  },
  {
   "cell_type": "code",
   "execution_count": 6,
   "metadata": {},
   "outputs": [],
   "source": [
    "# re-range the table\n",
    "cols = df.columns.tolist()\n",
    "cols = cols[1:] + cols[:1]\n",
    "df = df[cols]"
   ]
  },
  {
   "cell_type": "code",
   "execution_count": 7,
   "metadata": {},
   "outputs": [
    {
     "data": {
      "text/plain": [
       "['Survived',\n",
       " 'Pclass',\n",
       " 'Name',\n",
       " 'Sex',\n",
       " 'Age',\n",
       " 'SibSp',\n",
       " 'Parch',\n",
       " 'Ticket',\n",
       " 'Fare',\n",
       " 'Cabin',\n",
       " 'Embarked',\n",
       " 'PassengerId']"
      ]
     },
     "execution_count": 7,
     "metadata": {},
     "output_type": "execute_result"
    }
   ],
   "source": [
    "cols"
   ]
  },
  {
   "cell_type": "code",
   "execution_count": 8,
   "metadata": {},
   "outputs": [
    {
     "data": {
      "text/plain": [
       "891"
      ]
     },
     "execution_count": 8,
     "metadata": {},
     "output_type": "execute_result"
    }
   ],
   "source": [
    "# Total rows in the data\n",
    "df.shape[0]"
   ]
  },
  {
   "cell_type": "code",
   "execution_count": 9,
   "metadata": {},
   "outputs": [],
   "source": [
    "# We have to convert the male to the dummy feature\n",
    "# The Sex columns will be is male or not.\n",
    "\n",
    "from sklearn.preprocessing import OneHotEncoder\n",
    "from sklearn.preprocessing import LabelEncoder\n",
    "\n",
    "le = LabelEncoder()\n",
    "\n",
    "df_copy = df.values\n",
    "df_copy[:,3] = le.fit_transform(df_copy[:,3])\n",
    "\n",
    "df = pd.DataFrame(df_copy, columns=cols)\n",
    "\n",
    "# Since name"
   ]
  },
  {
   "cell_type": "code",
   "execution_count": 10,
   "metadata": {},
   "outputs": [
    {
     "data": {
      "text/html": [
       "<div>\n",
       "<style scoped>\n",
       "    .dataframe tbody tr th:only-of-type {\n",
       "        vertical-align: middle;\n",
       "    }\n",
       "\n",
       "    .dataframe tbody tr th {\n",
       "        vertical-align: top;\n",
       "    }\n",
       "\n",
       "    .dataframe thead th {\n",
       "        text-align: right;\n",
       "    }\n",
       "</style>\n",
       "<table border=\"1\" class=\"dataframe\">\n",
       "  <thead>\n",
       "    <tr style=\"text-align: right;\">\n",
       "      <th></th>\n",
       "      <th>Survived</th>\n",
       "      <th>Pclass</th>\n",
       "      <th>Name</th>\n",
       "      <th>Sex</th>\n",
       "      <th>Age</th>\n",
       "      <th>SibSp</th>\n",
       "      <th>Parch</th>\n",
       "      <th>Ticket</th>\n",
       "      <th>Fare</th>\n",
       "      <th>Cabin</th>\n",
       "      <th>Embarked</th>\n",
       "      <th>PassengerId</th>\n",
       "    </tr>\n",
       "  </thead>\n",
       "  <tbody>\n",
       "    <tr>\n",
       "      <th>0</th>\n",
       "      <td>0</td>\n",
       "      <td>3</td>\n",
       "      <td>Braund, Mr. Owen Harris</td>\n",
       "      <td>1</td>\n",
       "      <td>22</td>\n",
       "      <td>1</td>\n",
       "      <td>0</td>\n",
       "      <td>A/5 21171</td>\n",
       "      <td>7.25</td>\n",
       "      <td>NaN</td>\n",
       "      <td>S</td>\n",
       "      <td>1</td>\n",
       "    </tr>\n",
       "    <tr>\n",
       "      <th>1</th>\n",
       "      <td>1</td>\n",
       "      <td>1</td>\n",
       "      <td>Cumings, Mrs. John Bradley (Florence Briggs Th...</td>\n",
       "      <td>0</td>\n",
       "      <td>38</td>\n",
       "      <td>1</td>\n",
       "      <td>0</td>\n",
       "      <td>PC 17599</td>\n",
       "      <td>71.2833</td>\n",
       "      <td>C85</td>\n",
       "      <td>C</td>\n",
       "      <td>2</td>\n",
       "    </tr>\n",
       "    <tr>\n",
       "      <th>2</th>\n",
       "      <td>1</td>\n",
       "      <td>3</td>\n",
       "      <td>Heikkinen, Miss. Laina</td>\n",
       "      <td>0</td>\n",
       "      <td>26</td>\n",
       "      <td>0</td>\n",
       "      <td>0</td>\n",
       "      <td>STON/O2. 3101282</td>\n",
       "      <td>7.925</td>\n",
       "      <td>NaN</td>\n",
       "      <td>S</td>\n",
       "      <td>3</td>\n",
       "    </tr>\n",
       "    <tr>\n",
       "      <th>3</th>\n",
       "      <td>1</td>\n",
       "      <td>1</td>\n",
       "      <td>Futrelle, Mrs. Jacques Heath (Lily May Peel)</td>\n",
       "      <td>0</td>\n",
       "      <td>35</td>\n",
       "      <td>1</td>\n",
       "      <td>0</td>\n",
       "      <td>113803</td>\n",
       "      <td>53.1</td>\n",
       "      <td>C123</td>\n",
       "      <td>S</td>\n",
       "      <td>4</td>\n",
       "    </tr>\n",
       "    <tr>\n",
       "      <th>4</th>\n",
       "      <td>0</td>\n",
       "      <td>3</td>\n",
       "      <td>Allen, Mr. William Henry</td>\n",
       "      <td>1</td>\n",
       "      <td>35</td>\n",
       "      <td>0</td>\n",
       "      <td>0</td>\n",
       "      <td>373450</td>\n",
       "      <td>8.05</td>\n",
       "      <td>NaN</td>\n",
       "      <td>S</td>\n",
       "      <td>5</td>\n",
       "    </tr>\n",
       "  </tbody>\n",
       "</table>\n",
       "</div>"
      ],
      "text/plain": [
       "  Survived Pclass                                               Name Sex Age  \\\n",
       "0        0      3                            Braund, Mr. Owen Harris   1  22   \n",
       "1        1      1  Cumings, Mrs. John Bradley (Florence Briggs Th...   0  38   \n",
       "2        1      3                             Heikkinen, Miss. Laina   0  26   \n",
       "3        1      1       Futrelle, Mrs. Jacques Heath (Lily May Peel)   0  35   \n",
       "4        0      3                           Allen, Mr. William Henry   1  35   \n",
       "\n",
       "  SibSp Parch            Ticket     Fare Cabin Embarked PassengerId  \n",
       "0     1     0         A/5 21171     7.25   NaN        S           1  \n",
       "1     1     0          PC 17599  71.2833   C85        C           2  \n",
       "2     0     0  STON/O2. 3101282    7.925   NaN        S           3  \n",
       "3     1     0            113803     53.1  C123        S           4  \n",
       "4     0     0            373450     8.05   NaN        S           5  "
      ]
     },
     "execution_count": 10,
     "metadata": {},
     "output_type": "execute_result"
    }
   ],
   "source": [
    "df.head()"
   ]
  },
  {
   "cell_type": "code",
   "execution_count": 11,
   "metadata": {},
   "outputs": [
    {
     "name": "stdout",
     "output_type": "stream",
     "text": [
      "Total rows that contains NaN : 708\n",
      "The percentage that contains NaN data : 0.794613\n"
     ]
    }
   ],
   "source": [
    "print(\"Total rows that contains NaN : %d\" % (df.shape[0] - df.dropna().shape[0]))\n",
    "print(\"The percentage that contains NaN data : %f\"% ((df.shape[0] - df.dropna().shape[0])/df.shape[0]))"
   ]
  },
  {
   "cell_type": "markdown",
   "metadata": {},
   "source": [
    "### The Survival distribution"
   ]
  },
  {
   "cell_type": "code",
   "execution_count": 12,
   "metadata": {},
   "outputs": [
    {
     "data": {
      "text/plain": [
       "<matplotlib.axes._subplots.AxesSubplot at 0x1990b6a0>"
      ]
     },
     "execution_count": 12,
     "metadata": {},
     "output_type": "execute_result"
    },
    {
     "data": {
      "image/png": "[encoded data removed]",
      "text/plain": [
       "<Figure size 432x288 with 1 Axes>"
      ]
     },
     "metadata": {},
     "output_type": "display_data"
    }
   ],
   "source": [
    "df.Survived.value_counts().plot(kind='bar')"
   ]
  },
  {
   "cell_type": "markdown",
   "metadata": {},
   "source": [
    "#### => WE can see we dont have any skewed class"
   ]
  },
  {
   "cell_type": "markdown",
   "metadata": {},
   "source": [
    "### The relation between Age and survival"
   ]
  },
  {
   "cell_type": "code",
   "execution_count": 13,
   "metadata": {},
   "outputs": [
    {
     "data": {
      "image/png": "[encoded data removed]",
      "text/plain": [
       "<Figure size 432x288 with 1 Axes>"
      ]
     },
     "metadata": {},
     "output_type": "display_data"
    }
   ],
   "source": [
    "plt.scatter(df['Age'], df['Survived'])\n",
    "plt.xlabel('Age')\n",
    "plt.ylabel('Survived')\n",
    "plt.show()"
   ]
  },
  {
   "cell_type": "markdown",
   "metadata": {},
   "source": [
    " ## <font color='#29487d'> Check the Null Value</font>"
   ]
  },
  {
   "cell_type": "markdown",
   "metadata": {},
   "source": [
    "### <font color='#5b7cbb'>Count  How Many Rows have the NaN ( Null ) Values</font>"
   ]
  },
  {
   "cell_type": "code",
   "execution_count": 14,
   "metadata": {},
   "outputs": [
    {
     "data": {
      "text/plain": [
       "Survived       891\n",
       "Pclass         891\n",
       "Name           891\n",
       "Sex            891\n",
       "Age            714\n",
       "SibSp          891\n",
       "Parch          891\n",
       "Ticket         891\n",
       "Fare           891\n",
       "Cabin          204\n",
       "Embarked       889\n",
       "PassengerId    891\n",
       "dtype: int64"
      ]
     },
     "execution_count": 14,
     "metadata": {},
     "output_type": "execute_result"
    }
   ],
   "source": [
    "# We can see how many datas are available (Not NaN)\n",
    "df.count()"
   ]
  },
  {
   "cell_type": "code",
   "execution_count": 15,
   "metadata": {},
   "outputs": [
    {
     "data": {
      "text/html": [
       "<div>\n",
       "<style scoped>\n",
       "    .dataframe tbody tr th:only-of-type {\n",
       "        vertical-align: middle;\n",
       "    }\n",
       "\n",
       "    .dataframe tbody tr th {\n",
       "        vertical-align: top;\n",
       "    }\n",
       "\n",
       "    .dataframe thead th {\n",
       "        text-align: right;\n",
       "    }\n",
       "</style>\n",
       "<table border=\"1\" class=\"dataframe\">\n",
       "  <thead>\n",
       "    <tr style=\"text-align: right;\">\n",
       "      <th></th>\n",
       "      <th>Survived</th>\n",
       "      <th>Pclass</th>\n",
       "      <th>Name</th>\n",
       "      <th>Sex</th>\n",
       "      <th>Age</th>\n",
       "      <th>SibSp</th>\n",
       "      <th>Parch</th>\n",
       "      <th>Ticket</th>\n",
       "      <th>Fare</th>\n",
       "      <th>Cabin</th>\n",
       "      <th>Embarked</th>\n",
       "      <th>PassengerId</th>\n",
       "    </tr>\n",
       "  </thead>\n",
       "  <tbody>\n",
       "    <tr>\n",
       "      <th>0</th>\n",
       "      <td>0</td>\n",
       "      <td>3</td>\n",
       "      <td>Braund, Mr. Owen Harris</td>\n",
       "      <td>1</td>\n",
       "      <td>22</td>\n",
       "      <td>1</td>\n",
       "      <td>0</td>\n",
       "      <td>A/5 21171</td>\n",
       "      <td>7.25</td>\n",
       "      <td>NaN</td>\n",
       "      <td>S</td>\n",
       "      <td>1</td>\n",
       "    </tr>\n",
       "    <tr>\n",
       "      <th>2</th>\n",
       "      <td>1</td>\n",
       "      <td>3</td>\n",
       "      <td>Heikkinen, Miss. Laina</td>\n",
       "      <td>0</td>\n",
       "      <td>26</td>\n",
       "      <td>0</td>\n",
       "      <td>0</td>\n",
       "      <td>STON/O2. 3101282</td>\n",
       "      <td>7.925</td>\n",
       "      <td>NaN</td>\n",
       "      <td>S</td>\n",
       "      <td>3</td>\n",
       "    </tr>\n",
       "    <tr>\n",
       "      <th>4</th>\n",
       "      <td>0</td>\n",
       "      <td>3</td>\n",
       "      <td>Allen, Mr. William Henry</td>\n",
       "      <td>1</td>\n",
       "      <td>35</td>\n",
       "      <td>0</td>\n",
       "      <td>0</td>\n",
       "      <td>373450</td>\n",
       "      <td>8.05</td>\n",
       "      <td>NaN</td>\n",
       "      <td>S</td>\n",
       "      <td>5</td>\n",
       "    </tr>\n",
       "    <tr>\n",
       "      <th>5</th>\n",
       "      <td>0</td>\n",
       "      <td>3</td>\n",
       "      <td>Moran, Mr. James</td>\n",
       "      <td>1</td>\n",
       "      <td>NaN</td>\n",
       "      <td>0</td>\n",
       "      <td>0</td>\n",
       "      <td>330877</td>\n",
       "      <td>8.4583</td>\n",
       "      <td>NaN</td>\n",
       "      <td>Q</td>\n",
       "      <td>6</td>\n",
       "    </tr>\n",
       "    <tr>\n",
       "      <th>7</th>\n",
       "      <td>0</td>\n",
       "      <td>3</td>\n",
       "      <td>Palsson, Master. Gosta Leonard</td>\n",
       "      <td>1</td>\n",
       "      <td>2</td>\n",
       "      <td>3</td>\n",
       "      <td>1</td>\n",
       "      <td>349909</td>\n",
       "      <td>21.075</td>\n",
       "      <td>NaN</td>\n",
       "      <td>S</td>\n",
       "      <td>8</td>\n",
       "    </tr>\n",
       "  </tbody>\n",
       "</table>\n",
       "</div>"
      ],
      "text/plain": [
       "  Survived Pclass                            Name Sex  Age SibSp Parch  \\\n",
       "0        0      3         Braund, Mr. Owen Harris   1   22     1     0   \n",
       "2        1      3          Heikkinen, Miss. Laina   0   26     0     0   \n",
       "4        0      3        Allen, Mr. William Henry   1   35     0     0   \n",
       "5        0      3                Moran, Mr. James   1  NaN     0     0   \n",
       "7        0      3  Palsson, Master. Gosta Leonard   1    2     3     1   \n",
       "\n",
       "             Ticket    Fare Cabin Embarked PassengerId  \n",
       "0         A/5 21171    7.25   NaN        S           1  \n",
       "2  STON/O2. 3101282   7.925   NaN        S           3  \n",
       "4            373450    8.05   NaN        S           5  \n",
       "5            330877  8.4583   NaN        Q           6  \n",
       "7            349909  21.075   NaN        S           8  "
      ]
     },
     "execution_count": 15,
     "metadata": {},
     "output_type": "execute_result"
    }
   ],
   "source": [
    "# all the rows that has the null value\n",
    "df[df.isnull().any(axis=1)].head()"
   ]
  },
  {
   "cell_type": "code",
   "execution_count": 16,
   "metadata": {},
   "outputs": [
    {
     "data": {
      "text/plain": [
       "Index(['Age', 'Cabin', 'Embarked'], dtype='object')"
      ]
     },
     "execution_count": 16,
     "metadata": {},
     "output_type": "execute_result"
    }
   ],
   "source": [
    "# List the number of NaN data in each columns\n",
    "null_columns=df.columns[df.isnull().any()]\n",
    "null_columns"
   ]
  },
  {
   "cell_type": "code",
   "execution_count": 17,
   "metadata": {},
   "outputs": [
    {
     "data": {
      "text/plain": [
       "Age         177\n",
       "Cabin       687\n",
       "Embarked      2\n",
       "dtype: int64"
      ]
     },
     "execution_count": 17,
     "metadata": {},
     "output_type": "execute_result"
    }
   ],
   "source": [
    "df[null_columns].isnull().sum()"
   ]
  },
  {
   "cell_type": "code",
   "execution_count": 18,
   "metadata": {},
   "outputs": [],
   "source": [
    "# Since the name apparently is not related to the passenger surviv or not. We drop the 'Name' column\n",
    "df = df.drop('Name', axis = 1)"
   ]
  },
  {
   "cell_type": "markdown",
   "metadata": {},
   "source": [
    "Since the ticket doesnt have any null value <br>\n",
    "=> Every Passanger has the ticket, so survived or not is not related to the ticket<br>\n",
    "\n",
    "** Everyone has the same state: has ticket **<br>\n",
    "\n",
    "so we drop the tick column"
   ]
  },
  {
   "cell_type": "code",
   "execution_count": 19,
   "metadata": {},
   "outputs": [],
   "source": [
    "df = df.drop('Ticket', axis = 1)"
   ]
  },
  {
   "cell_type": "code",
   "execution_count": 20,
   "metadata": {},
   "outputs": [
    {
     "data": {
      "text/html": [
       "<div>\n",
       "<style scoped>\n",
       "    .dataframe tbody tr th:only-of-type {\n",
       "        vertical-align: middle;\n",
       "    }\n",
       "\n",
       "    .dataframe tbody tr th {\n",
       "        vertical-align: top;\n",
       "    }\n",
       "\n",
       "    .dataframe thead th {\n",
       "        text-align: right;\n",
       "    }\n",
       "</style>\n",
       "<table border=\"1\" class=\"dataframe\">\n",
       "  <thead>\n",
       "    <tr style=\"text-align: right;\">\n",
       "      <th></th>\n",
       "      <th>Survived</th>\n",
       "      <th>Pclass</th>\n",
       "      <th>Sex</th>\n",
       "      <th>Age</th>\n",
       "      <th>SibSp</th>\n",
       "      <th>Parch</th>\n",
       "      <th>Fare</th>\n",
       "      <th>Cabin</th>\n",
       "      <th>Embarked</th>\n",
       "      <th>PassengerId</th>\n",
       "    </tr>\n",
       "  </thead>\n",
       "  <tbody>\n",
       "    <tr>\n",
       "      <th>0</th>\n",
       "      <td>0</td>\n",
       "      <td>3</td>\n",
       "      <td>1</td>\n",
       "      <td>22</td>\n",
       "      <td>1</td>\n",
       "      <td>0</td>\n",
       "      <td>7.25</td>\n",
       "      <td>NaN</td>\n",
       "      <td>S</td>\n",
       "      <td>1</td>\n",
       "    </tr>\n",
       "    <tr>\n",
       "      <th>1</th>\n",
       "      <td>1</td>\n",
       "      <td>1</td>\n",
       "      <td>0</td>\n",
       "      <td>38</td>\n",
       "      <td>1</td>\n",
       "      <td>0</td>\n",
       "      <td>71.2833</td>\n",
       "      <td>C85</td>\n",
       "      <td>C</td>\n",
       "      <td>2</td>\n",
       "    </tr>\n",
       "    <tr>\n",
       "      <th>2</th>\n",
       "      <td>1</td>\n",
       "      <td>3</td>\n",
       "      <td>0</td>\n",
       "      <td>26</td>\n",
       "      <td>0</td>\n",
       "      <td>0</td>\n",
       "      <td>7.925</td>\n",
       "      <td>NaN</td>\n",
       "      <td>S</td>\n",
       "      <td>3</td>\n",
       "    </tr>\n",
       "    <tr>\n",
       "      <th>3</th>\n",
       "      <td>1</td>\n",
       "      <td>1</td>\n",
       "      <td>0</td>\n",
       "      <td>35</td>\n",
       "      <td>1</td>\n",
       "      <td>0</td>\n",
       "      <td>53.1</td>\n",
       "      <td>C123</td>\n",
       "      <td>S</td>\n",
       "      <td>4</td>\n",
       "    </tr>\n",
       "    <tr>\n",
       "      <th>4</th>\n",
       "      <td>0</td>\n",
       "      <td>3</td>\n",
       "      <td>1</td>\n",
       "      <td>35</td>\n",
       "      <td>0</td>\n",
       "      <td>0</td>\n",
       "      <td>8.05</td>\n",
       "      <td>NaN</td>\n",
       "      <td>S</td>\n",
       "      <td>5</td>\n",
       "    </tr>\n",
       "  </tbody>\n",
       "</table>\n",
       "</div>"
      ],
      "text/plain": [
       "  Survived Pclass Sex Age SibSp Parch     Fare Cabin Embarked PassengerId\n",
       "0        0      3   1  22     1     0     7.25   NaN        S           1\n",
       "1        1      1   0  38     1     0  71.2833   C85        C           2\n",
       "2        1      3   0  26     0     0    7.925   NaN        S           3\n",
       "3        1      1   0  35     1     0     53.1  C123        S           4\n",
       "4        0      3   1  35     0     0     8.05   NaN        S           5"
      ]
     },
     "execution_count": 20,
     "metadata": {},
     "output_type": "execute_result"
    }
   ],
   "source": [
    "df.head()"
   ]
  },
  {
   "cell_type": "markdown",
   "metadata": {},
   "source": [
    "The Cabin only has the 204 not NaN, so we have to consider that do we really need Cabin ? <br><br>\n",
    "We drop the are carbin value here first. After we can see the accuracy of this data <br><br>"
   ]
  },
  {
   "cell_type": "code",
   "execution_count": 21,
   "metadata": {},
   "outputs": [
    {
     "data": {
      "text/html": [
       "<div>\n",
       "<style scoped>\n",
       "    .dataframe tbody tr th:only-of-type {\n",
       "        vertical-align: middle;\n",
       "    }\n",
       "\n",
       "    .dataframe tbody tr th {\n",
       "        vertical-align: top;\n",
       "    }\n",
       "\n",
       "    .dataframe thead th {\n",
       "        text-align: right;\n",
       "    }\n",
       "</style>\n",
       "<table border=\"1\" class=\"dataframe\">\n",
       "  <thead>\n",
       "    <tr style=\"text-align: right;\">\n",
       "      <th></th>\n",
       "      <th>Survived</th>\n",
       "      <th>Pclass</th>\n",
       "      <th>Sex</th>\n",
       "      <th>Age</th>\n",
       "      <th>SibSp</th>\n",
       "      <th>Parch</th>\n",
       "      <th>Fare</th>\n",
       "      <th>Embarked</th>\n",
       "      <th>PassengerId</th>\n",
       "    </tr>\n",
       "  </thead>\n",
       "  <tbody>\n",
       "    <tr>\n",
       "      <th>0</th>\n",
       "      <td>0</td>\n",
       "      <td>3</td>\n",
       "      <td>1</td>\n",
       "      <td>22</td>\n",
       "      <td>1</td>\n",
       "      <td>0</td>\n",
       "      <td>7.25</td>\n",
       "      <td>S</td>\n",
       "      <td>1</td>\n",
       "    </tr>\n",
       "    <tr>\n",
       "      <th>1</th>\n",
       "      <td>1</td>\n",
       "      <td>1</td>\n",
       "      <td>0</td>\n",
       "      <td>38</td>\n",
       "      <td>1</td>\n",
       "      <td>0</td>\n",
       "      <td>71.2833</td>\n",
       "      <td>C</td>\n",
       "      <td>2</td>\n",
       "    </tr>\n",
       "    <tr>\n",
       "      <th>2</th>\n",
       "      <td>1</td>\n",
       "      <td>3</td>\n",
       "      <td>0</td>\n",
       "      <td>26</td>\n",
       "      <td>0</td>\n",
       "      <td>0</td>\n",
       "      <td>7.925</td>\n",
       "      <td>S</td>\n",
       "      <td>3</td>\n",
       "    </tr>\n",
       "    <tr>\n",
       "      <th>3</th>\n",
       "      <td>1</td>\n",
       "      <td>1</td>\n",
       "      <td>0</td>\n",
       "      <td>35</td>\n",
       "      <td>1</td>\n",
       "      <td>0</td>\n",
       "      <td>53.1</td>\n",
       "      <td>S</td>\n",
       "      <td>4</td>\n",
       "    </tr>\n",
       "    <tr>\n",
       "      <th>4</th>\n",
       "      <td>0</td>\n",
       "      <td>3</td>\n",
       "      <td>1</td>\n",
       "      <td>35</td>\n",
       "      <td>0</td>\n",
       "      <td>0</td>\n",
       "      <td>8.05</td>\n",
       "      <td>S</td>\n",
       "      <td>5</td>\n",
       "    </tr>\n",
       "  </tbody>\n",
       "</table>\n",
       "</div>"
      ],
      "text/plain": [
       "  Survived Pclass Sex Age SibSp Parch     Fare Embarked PassengerId\n",
       "0        0      3   1  22     1     0     7.25        S           1\n",
       "1        1      1   0  38     1     0  71.2833        C           2\n",
       "2        1      3   0  26     0     0    7.925        S           3\n",
       "3        1      1   0  35     1     0     53.1        S           4\n",
       "4        0      3   1  35     0     0     8.05        S           5"
      ]
     },
     "execution_count": 21,
     "metadata": {},
     "output_type": "execute_result"
    }
   ],
   "source": [
    "df = df.drop('Cabin', axis = 1)\n",
    "df.head()"
   ]
  },
  {
   "cell_type": "code",
   "execution_count": 22,
   "metadata": {},
   "outputs": [],
   "source": [
    "cols = df.columns.tolist()"
   ]
  },
  {
   "cell_type": "code",
   "execution_count": 23,
   "metadata": {},
   "outputs": [
    {
     "data": {
      "text/plain": [
       "Survived       889\n",
       "Pclass         889\n",
       "Sex            889\n",
       "Age            712\n",
       "SibSp          889\n",
       "Parch          889\n",
       "Fare           889\n",
       "Embarked       889\n",
       "PassengerId    889\n",
       "dtype: int64"
      ]
     },
     "execution_count": 23,
     "metadata": {},
     "output_type": "execute_result"
    }
   ],
   "source": [
    "df = df.dropna(subset=['Embarked'])  \n",
    "df.count()"
   ]
  },
  {
   "cell_type": "markdown",
   "metadata": {},
   "source": [
    "### See the relation between Embarked and Suvival rate"
   ]
  },
  {
   "cell_type": "code",
   "execution_count": 24,
   "metadata": {},
   "outputs": [
    {
     "data": {
      "text/plain": [
       "<matplotlib.legend.Legend at 0x1bafd5c0>"
      ]
     },
     "execution_count": 24,
     "metadata": {},
     "output_type": "execute_result"
    },
    {
     "data": {
      "image/png": "[encoded data removed]",
      "text/plain": [
       "<Figure size 1296x432 with 2 Axes>"
      ]
     },
     "metadata": {},
     "output_type": "display_data"
    }
   ],
   "source": [
    "fig = plt.figure(figsize=(18,6))\n",
    "ax1 = fig.add_subplot(121)\n",
    "df.Embarked.value_counts().plot(kind='bar')\n",
    "\n",
    "ax2 = fig.add_subplot(122)\n",
    "df.Survived[df.Embarked == 'S'].value_counts().sort_index().plot(kind='bar', color='#1f77b4',label = 'S')\n",
    "df.Survived[df.Embarked == 'C'].value_counts().sort_index().plot(kind='bar', color='#ff7f0e', label='C')\n",
    "df.Survived[df.Embarked == 'Q'].value_counts().sort_index().plot(kind='bar', color='#2ca02c',label = 'Q')\n",
    "plt.title(\"Who Survived? with respect to the location they embark, (raw value counts) \")\n",
    "plt.xlabel('Survived?')\n",
    "plt.legend(loc='best')"
   ]
  },
  {
   "cell_type": "markdown",
   "metadata": {},
   "source": [
    "### <font color='#1f77b4'> We can see this class seem reasonable, which equally distribute\n",
    "<p> We can remain this feature</p>\n",
    "<p> Because it is classical value, we convert it to the dummy feature</p>"
   ]
  },
  {
   "cell_type": "code",
   "execution_count": 25,
   "metadata": {},
   "outputs": [
    {
     "data": {
      "text/plain": [
       "array(['S', 'C', 'Q'], dtype=object)"
      ]
     },
     "execution_count": 25,
     "metadata": {},
     "output_type": "execute_result"
    }
   ],
   "source": [
    "df['Embarked'].unique()"
   ]
  },
  {
   "cell_type": "code",
   "execution_count": 26,
   "metadata": {},
   "outputs": [],
   "source": [
    "#so we convert to the dummy feature\n",
    "le = LabelEncoder()\n",
    "ohe = OneHotEncoder(categorical_features=['Embarked'])\n",
    "\n",
    "df_copy = df.values\n",
    "df_copy[:,7] = le.fit_transform(df_copy[:,7])\n",
    "a = np.zeros((df_copy.shape[0],1))\n",
    "b = np.zeros((df_copy.shape[0],1))\n",
    "c = np.zeros((df_copy.shape[0],1))\n",
    "for i in range(0, df_copy.shape[0]):\n",
    "    if df_copy[i,7] == 0:\n",
    "        a[i] = 1\n",
    "    elif df_copy[i,7] == 1:\n",
    "        b[i] = 1\n",
    "    elif df_copy[i,7] == 2:\n",
    "        c[i] = 1\n",
    "    else:\n",
    "        a[i] = 0\n",
    "        b[i] = 0\n",
    "        c[i] = 0\n",
    "df_copy[:,7] = a[:,0]            \n",
    "df_copy = np.append(df_copy, b, 1)\n",
    "df_copy = np.append(df_copy, c, 1)\n",
    "cols[7] = 'Embarked:C'\n",
    "cols.append('Embarked:Q')\n",
    "cols.append('Embarked:S')\n",
    "df = pd.DataFrame(df_copy, columns=cols)"
   ]
  },
  {
   "cell_type": "code",
   "execution_count": 27,
   "metadata": {},
   "outputs": [
    {
     "data": {
      "text/html": [
       "<div>\n",
       "<style scoped>\n",
       "    .dataframe tbody tr th:only-of-type {\n",
       "        vertical-align: middle;\n",
       "    }\n",
       "\n",
       "    .dataframe tbody tr th {\n",
       "        vertical-align: top;\n",
       "    }\n",
       "\n",
       "    .dataframe thead th {\n",
       "        text-align: right;\n",
       "    }\n",
       "</style>\n",
       "<table border=\"1\" class=\"dataframe\">\n",
       "  <thead>\n",
       "    <tr style=\"text-align: right;\">\n",
       "      <th></th>\n",
       "      <th>Survived</th>\n",
       "      <th>Pclass</th>\n",
       "      <th>Sex</th>\n",
       "      <th>Age</th>\n",
       "      <th>SibSp</th>\n",
       "      <th>Parch</th>\n",
       "      <th>Fare</th>\n",
       "      <th>Embarked:C</th>\n",
       "      <th>PassengerId</th>\n",
       "      <th>Embarked:Q</th>\n",
       "      <th>Embarked:S</th>\n",
       "    </tr>\n",
       "  </thead>\n",
       "  <tbody>\n",
       "    <tr>\n",
       "      <th>0</th>\n",
       "      <td>0</td>\n",
       "      <td>3</td>\n",
       "      <td>1</td>\n",
       "      <td>22</td>\n",
       "      <td>1</td>\n",
       "      <td>0</td>\n",
       "      <td>7.25</td>\n",
       "      <td>0</td>\n",
       "      <td>1</td>\n",
       "      <td>0</td>\n",
       "      <td>1</td>\n",
       "    </tr>\n",
       "    <tr>\n",
       "      <th>1</th>\n",
       "      <td>1</td>\n",
       "      <td>1</td>\n",
       "      <td>0</td>\n",
       "      <td>38</td>\n",
       "      <td>1</td>\n",
       "      <td>0</td>\n",
       "      <td>71.2833</td>\n",
       "      <td>1</td>\n",
       "      <td>2</td>\n",
       "      <td>0</td>\n",
       "      <td>0</td>\n",
       "    </tr>\n",
       "    <tr>\n",
       "      <th>2</th>\n",
       "      <td>1</td>\n",
       "      <td>3</td>\n",
       "      <td>0</td>\n",
       "      <td>26</td>\n",
       "      <td>0</td>\n",
       "      <td>0</td>\n",
       "      <td>7.925</td>\n",
       "      <td>0</td>\n",
       "      <td>3</td>\n",
       "      <td>0</td>\n",
       "      <td>1</td>\n",
       "    </tr>\n",
       "    <tr>\n",
       "      <th>3</th>\n",
       "      <td>1</td>\n",
       "      <td>1</td>\n",
       "      <td>0</td>\n",
       "      <td>35</td>\n",
       "      <td>1</td>\n",
       "      <td>0</td>\n",
       "      <td>53.1</td>\n",
       "      <td>0</td>\n",
       "      <td>4</td>\n",
       "      <td>0</td>\n",
       "      <td>1</td>\n",
       "    </tr>\n",
       "    <tr>\n",
       "      <th>4</th>\n",
       "      <td>0</td>\n",
       "      <td>3</td>\n",
       "      <td>1</td>\n",
       "      <td>35</td>\n",
       "      <td>0</td>\n",
       "      <td>0</td>\n",
       "      <td>8.05</td>\n",
       "      <td>0</td>\n",
       "      <td>5</td>\n",
       "      <td>0</td>\n",
       "      <td>1</td>\n",
       "    </tr>\n",
       "  </tbody>\n",
       "</table>\n",
       "</div>"
      ],
      "text/plain": [
       "  Survived Pclass Sex Age SibSp Parch     Fare Embarked:C PassengerId  \\\n",
       "0        0      3   1  22     1     0     7.25          0           1   \n",
       "1        1      1   0  38     1     0  71.2833          1           2   \n",
       "2        1      3   0  26     0     0    7.925          0           3   \n",
       "3        1      1   0  35     1     0     53.1          0           4   \n",
       "4        0      3   1  35     0     0     8.05          0           5   \n",
       "\n",
       "  Embarked:Q Embarked:S  \n",
       "0          0          1  \n",
       "1          0          0  \n",
       "2          0          1  \n",
       "3          0          1  \n",
       "4          0          1  "
      ]
     },
     "execution_count": 27,
     "metadata": {},
     "output_type": "execute_result"
    }
   ],
   "source": [
    "df.head()"
   ]
  },
  {
   "cell_type": "code",
   "execution_count": 28,
   "metadata": {},
   "outputs": [],
   "source": [
    "#so we convert to the dummy feature\n",
    "le = LabelEncoder()\n",
    "ohe = OneHotEncoder(categorical_features=['Pclass'])\n",
    "\n",
    "df_copy = df.values\n",
    "df_copy[:,7] = le.fit_transform(df_copy[:,7])\n",
    "a = np.zeros((df_copy.shape[0],1))\n",
    "b = np.zeros((df_copy.shape[0],1))\n",
    "c = np.zeros((df_copy.shape[0],1))\n",
    "for i in range(0, df_copy.shape[0]):\n",
    "    if df_copy[i,7] == 0:\n",
    "        a[i] = 1\n",
    "    elif df_copy[i,7] == 1:\n",
    "        b[i] = 1\n",
    "    elif df_copy[i,7] == 2:\n",
    "        c[i] = 1\n",
    "    else:\n",
    "        a[i] = 0\n",
    "        b[i] = 0\n",
    "        c[i] = 0\n",
    "df_copy[:,7] = a[:,0]            \n",
    "df_copy = np.append(df_copy, b, 1)\n",
    "df_copy = np.append(df_copy, c, 1)\n",
    "cols[7] = 'Embarked:C'\n",
    "cols.append('Embarked:Q')\n",
    "cols.append('Embarked:S')\n",
    "df = pd.DataFrame(df_copy, columns=cols)"
   ]
  },
  {
   "cell_type": "code",
   "execution_count": 1,
   "metadata": {},
   "outputs": [
    {
     "ename": "NameError",
     "evalue": "name 'LabelEncoder' is not defined",
     "output_type": "error",
     "traceback": [
      "\u001b[1;31m---------------------------------------------------------------------------\u001b[0m",
      "\u001b[1;31mNameError\u001b[0m                                 Traceback (most recent call last)",
      "\u001b[1;32m<ipython-input-1-d9aeb64916fd>\u001b[0m in \u001b[0;36m<module>\u001b[1;34m()\u001b[0m\n\u001b[1;32m----> 1\u001b[1;33m \u001b[0mle\u001b[0m \u001b[1;33m=\u001b[0m \u001b[0mLabelEncoder\u001b[0m\u001b[1;33m(\u001b[0m\u001b[1;33m)\u001b[0m\u001b[1;33m\u001b[0m\u001b[0m\n\u001b[0m\u001b[0;32m      2\u001b[0m \u001b[0mohe\u001b[0m \u001b[1;33m=\u001b[0m \u001b[0mOneHotEncoder\u001b[0m\u001b[1;33m(\u001b[0m\u001b[0mcategorical_features\u001b[0m\u001b[1;33m=\u001b[0m\u001b[1;33m[\u001b[0m\u001b[1;36m1\u001b[0m\u001b[1;33m]\u001b[0m\u001b[1;33m)\u001b[0m\u001b[1;33m\u001b[0m\u001b[0m\n\u001b[0;32m      3\u001b[0m \u001b[0mq\u001b[0m \u001b[1;33m=\u001b[0m \u001b[0mohe\u001b[0m\u001b[1;33m.\u001b[0m\u001b[0mfit_transform\u001b[0m\u001b[1;33m(\u001b[0m\u001b[0mdf_copy\u001b[0m\u001b[1;33m)\u001b[0m\u001b[1;33m\u001b[0m\u001b[0m\n",
      "\u001b[1;31mNameError\u001b[0m: name 'LabelEncoder' is not defined"
     ]
    }
   ],
   "source": [
    "le = LabelEncoder()\n",
    "ohe = OneHotEncoder(categorical_features=[1])\n",
    "q = ohe.fit_transform(df_copy)"
   ]
  },
  {
   "cell_type": "code",
   "execution_count": null,
   "metadata": {},
   "outputs": [],
   "source": []
  },
  {
   "cell_type": "code",
   "execution_count": null,
   "metadata": {},
   "outputs": [],
   "source": []
  },
  {
   "cell_type": "markdown",
   "metadata": {},
   "source": [
    "### Since the PassengerID is not important in this dataset"
   ]
  },
  {
   "cell_type": "code",
   "execution_count": null,
   "metadata": {},
   "outputs": [],
   "source": [
    "cols = cols[:8]  + cols[9:]\n",
    "df = df[cols]"
   ]
  },
  {
   "cell_type": "code",
   "execution_count": null,
   "metadata": {},
   "outputs": [],
   "source": [
    "df.head()"
   ]
  },
  {
   "cell_type": "code",
   "execution_count": null,
   "metadata": {},
   "outputs": [],
   "source": [
    "df.isnull().sum()"
   ]
  },
  {
   "cell_type": "markdown",
   "metadata": {},
   "source": [
    "### We still have NaN value in Age <br>\n",
    "#### Let think of something to fix the nan value in Age<br>\n",
    "#### we can train another model to predict the value for age, so we enter the predict from this model to the missing age value.<br>\n",
    "#### Here we use decision tree to fill in the NaN value in Age\n"
   ]
  },
  {
   "cell_type": "code",
   "execution_count": null,
   "metadata": {},
   "outputs": [],
   "source": [
    "x_temp = df[cols[1:]]\n",
    "c = x_temp.columns.tolist()\n",
    "c = c[2:] + c[:2]\n",
    "x_temp = x_temp[c]"
   ]
  },
  {
   "cell_type": "code",
   "execution_count": null,
   "metadata": {},
   "outputs": [],
   "source": [
    "x_temp.head()"
   ]
  },
  {
   "cell_type": "code",
   "execution_count": null,
   "metadata": {},
   "outputs": [],
   "source": [
    "age = x_temp.dropna(subset=['Age'])"
   ]
  },
  {
   "cell_type": "code",
   "execution_count": null,
   "metadata": {},
   "outputs": [],
   "source": [
    "age_NaN = x_temp[x_temp.isnull().any(axis=1)]\n",
    "age_NaN.head()"
   ]
  },
  {
   "cell_type": "code",
   "execution_count": null,
   "metadata": {},
   "outputs": [],
   "source": [
    "age_x = age.iloc[:,1:]"
   ]
  },
  {
   "cell_type": "code",
   "execution_count": null,
   "metadata": {},
   "outputs": [],
   "source": [
    "age_y = age.iloc[:,0]\n",
    "age_y = age_y.values.astype('int')\n",
    "age_y = age_y.reshape(age_y.shape[0],1)\n",
    "age_y.shape"
   ]
  },
  {
   "cell_type": "code",
   "execution_count": null,
   "metadata": {},
   "outputs": [],
   "source": [
    "age_X = age_x.values.astype('float')\n",
    "age_X.shape"
   ]
  },
  {
   "cell_type": "code",
   "execution_count": null,
   "metadata": {},
   "outputs": [],
   "source": [
    "a_train, a_test, ay_train, ay_test = train_test_split(age_X, age_y, test_size=0.3, random_state=0)"
   ]
  },
  {
   "cell_type": "code",
   "execution_count": null,
   "metadata": {},
   "outputs": [],
   "source": [
    "lr = LinearRegression()"
   ]
  },
  {
   "cell_type": "code",
   "execution_count": null,
   "metadata": {},
   "outputs": [],
   "source": [
    "lr.fit(a_train, ay_train)"
   ]
  },
  {
   "cell_type": "markdown",
   "metadata": {},
   "source": [
    "# <font color='#29487d'>We can find the model is underfitting which has high bias, so the cost (error) increase to the infinit</font>\n",
    "  - <font size='3em'>One possible is that our data has different scale\n",
    "  <br>\n",
    "  <br>\n",
    "  => So we are going to apply the feature scaler (mean normalization)</font>"
   ]
  },
  {
   "cell_type": "code",
   "execution_count": null,
   "metadata": {},
   "outputs": [],
   "source": [
    "age_x.head()"
   ]
  },
  {
   "cell_type": "code",
   "execution_count": null,
   "metadata": {},
   "outputs": [],
   "source": [
    "train_std = np.std(a_train,axis=0)\n",
    "train_mean = np.mean(a_train,axis=0)\n",
    "a_train_std = (a_train- train_mean)* (1/train_std)\n",
    "\n",
    "test_std = np.std(a_test,axis=0)\n",
    "test_mean = np.mean(a_test,axis=0)\n",
    "a_test_std = (a_test- test_mean)* (1/test_std)"
   ]
  },
  {
   "cell_type": "code",
   "execution_count": null,
   "metadata": {},
   "outputs": [],
   "source": [
    "lr.fit(a_train_std, ay_train)"
   ]
  },
  {
   "cell_type": "markdown",
   "metadata": {},
   "source": [
    "<font color='#29487d' size='3em'>We can see the cost decreasing through out the iteration, but not converge yet.\n",
    "    <br>\n",
    "    <br>\n",
    "    Two Possible to solve this problem:\n",
    "    <ul>\n",
    "        <li>Need more iteration</li>\n",
    "        <li>Increase the learning rate</li>\n",
    "    </ul>\n",
    "    <br>\n",
    "    <br>\n",
    "    <font size='5em'> Decrease the learning rate:</font>\n",
    "    \n",
    "</font>"
   ]
  },
  {
   "cell_type": "code",
   "execution_count": null,
   "metadata": {},
   "outputs": [],
   "source": [
    "learning_rate = [3,1,0.9,0.5,0.3,0.1,0.03]\n",
    "for i in learning_rate:\n",
    "    print('The result for learning rate: %f'% i)\n",
    "    lr.set_eta(i)\n",
    "    lr.fit(a_train_std, ay_train)\n"
   ]
  },
  {
   "cell_type": "markdown",
   "metadata": {},
   "source": [
    "<font color='#29487d' size='3em'>\n",
    "    The learning rate doesnt change to much \n",
    "</font>"
   ]
  },
  {
   "cell_type": "code",
   "execution_count": null,
   "metadata": {},
   "outputs": [],
   "source": [
    "lr.set_niter(5000)\n",
    "lr.fit(a_train_std, ay_train)"
   ]
  },
  {
   "cell_type": "markdown",
   "metadata": {},
   "source": [
    "## Plot Learning Curve"
   ]
  },
  {
   "cell_type": "code",
   "execution_count": null,
   "metadata": {},
   "outputs": [],
   "source": [
    "def plot_Learning_Curve(set_size,Jtrain,Jtest):\n",
    "    plt.plot(set_size,np.array(Jtrain))\n",
    "    plt.plot(set_size,np.array(Jtest))\n",
    "    plt.legend(['Training Error','Test Error'])\n",
    "    plt.xlabel('Dataset size')\n",
    "    plt.ylabel('Error')\n",
    "    plt.title('Model response to dataset size')\n",
    "    plt.ylim(0,160)\n",
    "    plt.show()"
   ]
  },
  {
   "cell_type": "code",
   "execution_count": null,
   "metadata": {},
   "outputs": [],
   "source": [
    "%timeit\n",
    "Jtrain_age = []\n",
    "Jtest_age = []\n",
    "for i in range(1,a_test.shape[0] + 1):\n",
    "    print('number of subset: %d' % i, flush=True)\n",
    "    model = LinearRegression()\n",
    "    model.fit(a_train_std[:i,:], ay_train[:i,])\n",
    "    theta = model.get_theta()\n",
    "    a_train_std_t = np.concatenate((np.ones((a_train_std.shape[0],1)), a_train_std),1)\n",
    "    a_test_std_t = np.concatenate((np.ones((a_test_std.shape[0],1)), a_test_std),1)\n",
    "    Jtrain_age.append( ((a_train_std_t[:i,:].dot(theta) - ay_train[:i,:]) ** 2).sum() * (1/(2*i)))\n",
    "    Jtest_age.append(((a_test_std_t[:i,:].dot(theta) - ay_test[:i,:]) ** 2).sum()* (1/(2*i)))"
   ]
  },
  {
   "cell_type": "code",
   "execution_count": null,
   "metadata": {
    "scrolled": true
   },
   "outputs": [],
   "source": [
    "plot_Learning_Curve( list(range(1,a_test.shape[0] + 1)),Jtrain_age[:a_test.shape[0] + 1], Jtest_age[:a_test.shape[0] + 1])"
   ]
  },
  {
   "cell_type": "markdown",
   "metadata": {},
   "source": [
    "### We can see that when training size increase. According to the plot of learning curve, the error is too high\n",
    "### we plot the relationship between age and different feature"
   ]
  },
  {
   "cell_type": "code",
   "execution_count": null,
   "metadata": {},
   "outputs": [],
   "source": [
    "age_col = age_x.columns.tolist()"
   ]
  },
  {
   "cell_type": "code",
   "execution_count": null,
   "metadata": {},
   "outputs": [],
   "source": [
    "fig, axs = plt.subplots(2,4, figsize=(15, 6), facecolor='w', edgecolor='k')\n",
    "fig.subplots_adjust(hspace = .5, wspace=0.5)\n",
    "\n",
    "axs = axs.ravel()\n",
    "\n",
    "for i in range(0,len(age_col)):\n",
    "    axs[i].scatter(df[age_col[i]], df.Age)\n",
    "    axs[i].set_title(age_col[i])"
   ]
  },
  {
   "cell_type": "code",
   "execution_count": null,
   "metadata": {},
   "outputs": [],
   "source": [
    "plt.scatter(df['Age'], df['Survived'])\n",
    "plt.xlabel('Age')\n",
    "plt.ylabel('Survived')\n",
    "plt.title('survival by Age')\n",
    "plt.show()"
   ]
  },
  {
   "cell_type": "markdown",
   "metadata": {},
   "source": [
    "### We can see we are hard to predict Age by existing feature and survival does not have obvious relation\n",
    "### So we simply drop the Age column that contain NaN value"
   ]
  },
  {
   "cell_type": "code",
   "execution_count": null,
   "metadata": {},
   "outputs": [],
   "source": [
    "df = df.dropna(subset=['Age']) \n",
    "x = df[cols[1:]]\n",
    "y = df[cols[0]]\n",
    "cols = df.columns.tolist()\n",
    "x.head()"
   ]
  },
  {
   "cell_type": "code",
   "execution_count": null,
   "metadata": {},
   "outputs": [],
   "source": [
    "df.isnull().sum()"
   ]
  },
  {
   "cell_type": "markdown",
   "metadata": {},
   "source": [
    "## We can see it doesnt contain Null value anymore"
   ]
  },
  {
   "cell_type": "markdown",
   "metadata": {},
   "source": [
    "# After we finish our preprocessing data, we can begin to predict our survival"
   ]
  },
  {
   "cell_type": "markdown",
   "metadata": {},
   "source": [
    "# Review the Features we have right now\n",
    " - ### Pclass: Ticket class\n",
    " - ### Sex: sex\n",
    " - ### Sex: \n",
    "    - #### 1 = Male \n",
    "    - #### 0 = Female\n",
    " - ### SibSp: Number of siblings/spouses aboard the Titanic\n",
    " - ### Parch: Number of parents/children aboard the Titanic\n",
    " - ### Ticket: Ticket number\n",
    " - ### Fare： Passenger fare\n",
    " - ### Embarked: Port of Embarkation\n",
    "    - #### C = Cherbourg \n",
    "    - #### Q = Queenstown\n",
    "    - #### s = Southampton "
   ]
  },
  {
   "cell_type": "code",
   "execution_count": null,
   "metadata": {},
   "outputs": [],
   "source": [
    "x.head()"
   ]
  },
  {
   "cell_type": "code",
   "execution_count": null,
   "metadata": {},
   "outputs": [],
   "source": [
    "x.shape"
   ]
  },
  {
   "cell_type": "markdown",
   "metadata": {},
   "source": [
    "### As we can see,  We have 712 training data and 9 features in this table"
   ]
  },
  {
   "cell_type": "markdown",
   "metadata": {},
   "source": [
    "# This is a binary classification problem and the data is not complex\n",
    "## so we have two choice for this kind of problem:\n",
    " - ### Logistic Regression\n",
    " - ### Support Vector Machines (with kernal or without kernal)"
   ]
  },
  {
   "cell_type": "markdown",
   "metadata": {},
   "source": [
    "# Logistic Regression vs Support Vector machine ( a.k.a SVM )\n",
    "## <p>We will compare this two algorighm first</p>\n",
    "## <p>n = number of features, m = number of training examples : </p>\n",
    "- ### <p>If n is large (relative to m)\n",
    "    - ##### Use logistic regression or SVM without kernel(linear kernel)</p>\n",
    "- ### <p>If n is small and m is intermediate (n = 1 ~ 1000, m = 1 ~ 10,000),\n",
    "    - ##### Use SVM with Gaussian Kernel</p>\n",
    "- ### <p>If n is small and m is large,\n",
    "    - ##### Create/Add more features, then use logistic kernel or SVM without a kernel</p>"
   ]
  },
  {
   "cell_type": "markdown",
   "metadata": {},
   "source": [
    "# Neural Network likely to work well for most of these setting\n",
    "## but many be slower to train and may have huge local optima"
   ]
  },
  {
   "cell_type": "code",
   "execution_count": null,
   "metadata": {},
   "outputs": [],
   "source": [
    "## X, y = (examples, features)\n",
    "## Theta = (thetas,)\n",
    "class LogisticRegression():\n",
    "    def __init__(self, reg_lambda = 0, eta = 0.01, niter=1500):\n",
    "        self.reg_lambda = reg_lambda\n",
    "        self.eta = eta\n",
    "        self.niter = niter\n",
    "        self.theta = None\n",
    "        self.cost = []\n",
    "        self.result = None\n",
    "        self.m = 0\n",
    "###################  Train the model  ##################\n",
    "    def sigmoid(self,z):\n",
    "        return 1/(1+ math.e ** (-1.0 * z))\n",
    "    def fit(self,X, y):\n",
    "        if type(X) == type(pd.DataFrame()):\n",
    "            X = X.values\n",
    "        if type(y) == type(pd.DataFrame()) or type(y) is type(pd.Series()):\n",
    "            y = y.values\n",
    "        X = np.concatenate((np.ones((X.shape[0],1)), X),1)\n",
    "        reg_lambda = self.reg_lambda\n",
    "        if len(y.shape) == 1:\n",
    "#             print('y has been reshape')\n",
    "            y = y.reshape(y.shape[0],1)\n",
    "        if len(X.shape) == 1:\n",
    "#             print('X has been reshape')\n",
    "            X = X.reshape(X.shape[0],1)\n",
    "        m = len(y)\n",
    "        self.m = m\n",
    "        Cost = []\n",
    "###################  Compute Cost Function for Linear Regression #################\n",
    "        def _cost(theta):\n",
    "            J = self.CostFunction(theta, X,y,reg_lambda)\n",
    "            Cost.append(J)\n",
    "            return J\n",
    "        def _grad(theta):\n",
    "            self.cost = []\n",
    "            reg_penalty = reg_lambda/(m) * (theta[1:]).sum()\n",
    "            theta = theta.reshape(theta.shape[0],1)\n",
    "            grad = 1/(m) * np.transpose(X).dot(self.sigmoid(X.dot(theta)).reshape(y.shape[0],y.shape[1]) - y) +  reg_penalty\n",
    "            grad = grad.flatten()\n",
    "            return grad\n",
    "        \n",
    "################### Broyden-Fletcher-Goldfarb-Shanno Algorithm ###################\n",
    "        ## use this algorithm to converge gradient\n",
    "        #theta = np.zeros((X.shape[1],1))\n",
    "        init_theta = np.zeros(X.shape[1],)\n",
    "#             print('\\rIteration:  %d || Cost : %f'  % (i , _cost(theta)), flush=True,end='')\n",
    "        # fmin_bfgs need to use 1-d array (shape = (n,)) instead of 2-d or more\n",
    "        [xopt, fopt, gopt, Bopt, func_calls, grad_calls, warnflg,allvecs] = optimize.fmin_bfgs(f=_cost,\n",
    "                                                                                               x0=init_theta,\n",
    "                                                                                               fprime=_grad,\n",
    "                                                                                               disp=True,\n",
    "                                                                                               maxiter = self.niter,\n",
    "                                                                                               full_output=True,\n",
    "                                                                                               retall=True)\n",
    "        #xopt = optimize.minimize(fun=_cost, x0=init_theta, method='CG', jac=_grad)\n",
    "#         print('\\nTheta is: ', end='')\n",
    "#         for i in range(0, theta.shape[0]):\n",
    "#             print('%f, ' % theta[i], end='')\n",
    "#         print()\n",
    "        self.theta = xopt\n",
    "        self.cost = Cost\n",
    "###################  Predict the New Data  ##################\n",
    "    def predict(self,newData):\n",
    "        if len(self.theta.shape) == 1:\n",
    "            theta = self.theta.reshape(self.theta.shape[0],1)\n",
    "        if len(newData.shape) == 1:\n",
    "            newData = newData.reshape(newData.shape[0],1)\n",
    "        newData = np.concatenate((np.ones((newData.shape[0],1)), newData),1)\n",
    "        h = self.sigmoid(newData.dot(theta)).astype(float)\n",
    "        return (h >= 0.5).astype(int).flatten()\n",
    "    def getCost(self):\n",
    "        return self.cost\n",
    "    def set_eta(self, eta):\n",
    "        self.cost = []\n",
    "        self.eta = eta\n",
    "    def set_niter(self, niter):\n",
    "        self.niter=niter\n",
    "    def set_panelty(self, p):\n",
    "        self.reg_lambda = p\n",
    "    def get_theta(self):\n",
    "        return self.theta\n",
    "    def CostFunction(self, theta,X,y,reg_lambda):\n",
    "        m = self.m\n",
    "        g = self.sigmoid(X.dot(theta)).astype(np.float)\n",
    "        if len(g.shape) is 1:\n",
    "            g = g.reshape(g.shape[0],1)\n",
    "        theta = theta.reshape(theta.shape[0],1) \n",
    "        reg_penalty = reg_lambda/(2/m) * (theta[1:] ** 2).sum()\n",
    "        J = float(-1)/(m) * (np.transpose(y).dot(np.log(g)) + np.transpose(1-y).dot(np.log(1-g))).sum()+  reg_penalty\n",
    "        return J"
   ]
  },
  {
   "cell_type": "code",
   "execution_count": null,
   "metadata": {},
   "outputs": [],
   "source": [
    "logr = LogisticRegression()"
   ]
  },
  {
   "cell_type": "code",
   "execution_count": null,
   "metadata": {},
   "outputs": [],
   "source": [
    "X = x.values.astype(np.float32)\n",
    "Y = y.values.astype(np.float32)\n",
    "logr.fit(X,Y)"
   ]
  },
  {
   "cell_type": "code",
   "execution_count": null,
   "metadata": {},
   "outputs": [],
   "source": [
    "pred = logr.predict(X)"
   ]
  },
  {
   "cell_type": "code",
   "execution_count": null,
   "metadata": {},
   "outputs": [],
   "source": [
    "a = np.bincount(pred == Y)\n",
    "print('The model accuracy on the dataset %f\\nThis is trying to see how well it converge' %  (a[1]/(a[1] + a[0])))"
   ]
  },
  {
   "cell_type": "code",
   "execution_count": null,
   "metadata": {},
   "outputs": [],
   "source": [
    "cost = logr.getCost()"
   ]
  },
  {
   "cell_type": "code",
   "execution_count": null,
   "metadata": {},
   "outputs": [],
   "source": [
    "plt.plot(range(0,len(cost)), cost)\n",
    "plt.xlabel('Iteration')\n",
    "plt.ylabel('Cost')\n",
    "plt.title('The Cost in different Iteration')\n",
    "plt.show()"
   ]
  },
  {
   "cell_type": "markdown",
   "metadata": {},
   "source": [
    "## As we can see the logistic regression implementation seem work correctly, \n",
    "## we want to do a furture check by using cross-validation set to see the accuracy"
   ]
  },
  {
   "cell_type": "code",
   "execution_count": null,
   "metadata": {},
   "outputs": [],
   "source": [
    "X_train, X_cv, y_train, y_cv = train_test_split(X, Y, test_size=0.3, random_state=0)"
   ]
  },
  {
   "cell_type": "code",
   "execution_count": null,
   "metadata": {},
   "outputs": [],
   "source": [
    "print( 'X_train\\'s shape:  (%d, %d)' % (X_train.shape[0],X_train.shape[1]))\n",
    "print( 'y_train\\' shape:  (%d,)' % (y_train.shape[0],))\n",
    "print( 'X_cv\\' shape:  (%d, %d)' % (X_cv.shape[0],X_cv.shape[1]))\n",
    "print( 'y_cv\\' shape:  (%d,)' % (y_cv.shape[0],))"
   ]
  },
  {
   "cell_type": "code",
   "execution_count": null,
   "metadata": {},
   "outputs": [],
   "source": [
    "logrr = LogisticRegression()"
   ]
  },
  {
   "cell_type": "code",
   "execution_count": null,
   "metadata": {},
   "outputs": [],
   "source": [
    "logrr.fit(X_train, y_train)"
   ]
  },
  {
   "cell_type": "code",
   "execution_count": null,
   "metadata": {},
   "outputs": [],
   "source": [
    "predict = logrr.predict(X_cv)"
   ]
  },
  {
   "cell_type": "code",
   "execution_count": null,
   "metadata": {},
   "outputs": [],
   "source": [
    "def plot_Learning_Curve(set_size,Jtrain,Jtest):\n",
    "    plt.plot(set_size,np.array(Jtrain))\n",
    "    plt.plot(set_size,np.array(Jtest))\n",
    "    plt.legend(['Training Error','Test Error'])\n",
    "    plt.xlabel('Dataset size')\n",
    "    plt.ylabel('Error')\n",
    "    plt.title('Model response to dataset size')\n",
    "    plt.ylim(0, 2)\n",
    "    plt.show()"
   ]
  },
  {
   "cell_type": "code",
   "execution_count": null,
   "metadata": {},
   "outputs": [],
   "source": [
    "Jtrain = []\n",
    "Jtest = []\n",
    "for i in range(1,X_cv.shape[0] + 1):\n",
    "    print('number of subset: %d' % i, flush=True)\n",
    "    model = LogisticRegression()\n",
    "    model.fit(X_train[:i,:], y_train[:i,])\n",
    "    theta = model.get_theta()\n",
    "    X_cv_t = np.concatenate((np.ones((X_cv.shape[0],1)), X_cv),1)\n",
    "    Jtrain.append(model.getCost()[-1])\n",
    "    Jtest.append(model.CostFunction(theta,X_cv_t,y_cv,0))"
   ]
  },
  {
   "cell_type": "code",
   "execution_count": null,
   "metadata": {
    "scrolled": true
   },
   "outputs": [],
   "source": [
    "plot_Learning_Curve(range(1,X_cv.shape[0] + 1),Jtrain,Jtest)\n",
    "pred_cv = logrr.predict(X_cv)\n",
    "a_cv = np.bincount(pred_cv == y_cv)\n",
    "cv_accuracy = a_cv[1]/(a_cv[1] + a_cv[0])\n",
    "print('Cross-Validation accuracy: %f ' % cv_accuracy)"
   ]
  },
  {
   "cell_type": "code",
   "execution_count": null,
   "metadata": {},
   "outputs": [],
   "source": []
  },
  {
   "cell_type": "code",
   "execution_count": null,
   "metadata": {},
   "outputs": [],
   "source": []
  },
  {
   "cell_type": "code",
   "execution_count": null,
   "metadata": {},
   "outputs": [],
   "source": []
  },
  {
   "cell_type": "markdown",
   "metadata": {},
   "source": [
    "# Super Vector Machine (SVM) with Guassian Kernel"
   ]
  },
  {
   "cell_type": "code",
   "execution_count": null,
   "metadata": {},
   "outputs": [],
   "source": [
    "from sklearn import svm\n",
    "from sklearn.metrics import accuracy_score"
   ]
  },
  {
   "cell_type": "code",
   "execution_count": null,
   "metadata": {},
   "outputs": [],
   "source": [
    "sv = svm.SVC(kernel='rbf', random_state=0, C = 1)\n",
    "sv.fit(X_train,y_train)"
   ]
  },
  {
   "cell_type": "code",
   "execution_count": null,
   "metadata": {},
   "outputs": [],
   "source": [
    "y_pred = sv.predict(X_cv)"
   ]
  },
  {
   "cell_type": "code",
   "execution_count": null,
   "metadata": {},
   "outputs": [],
   "source": [
    "print('Accuracy using svm with kernal: %2f' % accuracy_score(y_cv, y_pred))"
   ]
  },
  {
   "cell_type": "code",
   "execution_count": null,
   "metadata": {},
   "outputs": [],
   "source": [
    "## We might want to ues feature \n",
    "from sklearn.preprocessing import StandardScaler\n",
    "sc = StandardScaler()\n",
    "sc.fit(X_train)\n",
    "X_train_std = sc.transform(X_train)\n",
    "X_cv_std = sc.transform(X_cv)"
   ]
  },
  {
   "cell_type": "code",
   "execution_count": null,
   "metadata": {},
   "outputs": [],
   "source": [
    "sv = svm.SVC(kernel='rbf', random_state=0, C = 1)\n",
    "sv.fit(X_train_std,y_train)"
   ]
  },
  {
   "cell_type": "code",
   "execution_count": null,
   "metadata": {},
   "outputs": [],
   "source": [
    "y_pred_std = sv.predict(X_cv_std)"
   ]
  },
  {
   "cell_type": "code",
   "execution_count": null,
   "metadata": {},
   "outputs": [],
   "source": [
    "print('Accuracy using svm with kernal: %2f' % accuracy_score(y_cv, y_pred_std))"
   ]
  },
  {
   "cell_type": "code",
   "execution_count": null,
   "metadata": {},
   "outputs": [],
   "source": [
    "for i in range(1,X_cv.shape[0] + 1):\n",
    "    print('number of subset: %d' % i, flush=True)\n",
    "    model = LogisticRegression()\n",
    "    model.fit(X_train[:i,:], y_train[:i,])\n",
    "    theta = model.get_theta()\n",
    "    X_cv_t = np.concatenate((np.ones((X_cv.shape[0],1)), X_cv),1)\n",
    "    Jtrain.append(model.getCost()[-1])\n",
    "    Jtest.append(model.CostFunction(theta,X_cv_t,y_cv,0))"
   ]
  },
  {
   "cell_type": "code",
   "execution_count": null,
   "metadata": {},
   "outputs": [],
   "source": [
    "index = [0.001,0.003,0.01, 0.03, 0.1, 0.3, 1, 3, 10]\n",
    "accuarcy = []\n",
    "for i in index:\n",
    "    model = svm.SVC(kernel='rbf', random_state=0, C = i)\n",
    "    model.fit(X_train_std,y_train)\n",
    "    y_pred_std = model.predict(X_cv_std)\n",
    "    accuarcy.append(accuracy_score(y_cv, y_pred_std))"
   ]
  },
  {
   "cell_type": "code",
   "execution_count": null,
   "metadata": {},
   "outputs": [],
   "source": [
    "plt.plot(index, accuarcy)\n",
    "plt.xlabel('C')\n",
    "plt.ylabel('Accuracy')\n",
    "plt.title(\"The Accuracy with different parameter C \")\n",
    "plt.show()"
   ]
  },
  {
   "cell_type": "code",
   "execution_count": null,
   "metadata": {},
   "outputs": [],
   "source": [
    "index = []\n",
    "accuarcy = []\n",
    "for i in range(1,100):\n",
    "    model = svm.SVC(kernel='rbf', random_state=0, C = 0.01, gamma=i)\n",
    "    model.fit(X_train_std,y_train)\n",
    "    y_pred_std = model.predict(X_cv_std)\n",
    "    accuarcy.append(accuracy_score(y_cv, y_pred_std))\n",
    "    index.append(i)"
   ]
  },
  {
   "cell_type": "code",
   "execution_count": null,
   "metadata": {},
   "outputs": [],
   "source": [
    "plt.plot(index, accuarcy)\n",
    "plt.xlabel('gamma')\n",
    "plt.ylabel('Accuracy')\n",
    "plt.title(\"The Accuracy with different parameter gamma \")\n",
    "plt.show()"
   ]
  },
  {
   "cell_type": "code",
   "execution_count": null,
   "metadata": {},
   "outputs": [],
   "source": [
    "X_train_copy = X_train\n",
    "X_cv_copy =X_cv\n",
    "le = LabelEncoder()\n",
    "ohe = OneHotEncoder(categorical_features=[1])\n",
    "q = ohe.fit_transform(X_train_copy).toarray()\n",
    "e = ohe.fit_transform(X_cv_copy).toarray()\n",
    "\n",
    "from sklearn.preprocessing import StandardScaler\n",
    "sc = StandardScaler()\n",
    "sc.fit(q)\n",
    "q = sc.transform(q)\n",
    "e = sc.transform(e)"
   ]
  },
  {
   "cell_type": "code",
   "execution_count": null,
   "metadata": {},
   "outputs": [],
   "source": [
    "sv = svm.SVC(kernel='rbf', random_state=0, C = 1)\n",
    "sv.fit(q,y_train)"
   ]
  },
  {
   "cell_type": "code",
   "execution_count": null,
   "metadata": {},
   "outputs": [],
   "source": [
    "y_pred_std = sv.predict(e)\n",
    "print('Accuracy using svm with kernal: %2f' % accuracy_score(y_cv, y_pred_std))"
   ]
  },
  {
   "cell_type": "code",
   "execution_count": null,
   "metadata": {},
   "outputs": [],
   "source": []
  },
  {
   "cell_type": "code",
   "execution_count": null,
   "metadata": {},
   "outputs": [],
   "source": []
  },
  {
   "cell_type": "markdown",
   "metadata": {},
   "source": [
    "# Decision Tree"
   ]
  },
  {
   "cell_type": "code",
   "execution_count": null,
   "metadata": {},
   "outputs": [],
   "source": []
  },
  {
   "cell_type": "code",
   "execution_count": null,
   "metadata": {},
   "outputs": [],
   "source": []
  },
  {
   "cell_type": "code",
   "execution_count": null,
   "metadata": {},
   "outputs": [],
   "source": []
  },
  {
   "cell_type": "code",
   "execution_count": null,
   "metadata": {},
   "outputs": [],
   "source": [
    "entro_tree = DecisionTreeClassifier(criterion= 'entropy', random_state = 0)\n",
    "entro_tree.fit(age_x, age_y)\n",
    "export_graphviz(entro_tree, out_file= 'temp.dot', feature_names=c)\n"
   ]
  },
  {
   "cell_type": "code",
   "execution_count": null,
   "metadata": {},
   "outputs": [],
   "source": [
    "entro_tree = DecisionTreeClassifier(criterion= 'entropy', random_state = 0)\n",
    "gini_tree = DecisionTreeClassifier(criterion= 'gini', random_state = 1)\n",
    "entro_tree.fit(x, y)\n",
    "gini_tree.fit(x, y)"
   ]
  },
  {
   "cell_type": "markdown",
   "metadata": {},
   "source": [
    "We have three columns that have the NaN value and this three columns has to deal with later. However, we find the relation (correlation matrix) with the target feature first."
   ]
  },
  {
   "cell_type": "markdown",
   "metadata": {},
   "source": [
    "## Scatterplot matrix\n",
    "## Pair- wise corrlations between the different features in this dataset."
   ]
  },
  {
   "cell_type": "code",
   "execution_count": null,
   "metadata": {},
   "outputs": [],
   "source": [
    "import matplotlib.pyplot as plt\n",
    "import seaborn as sns"
   ]
  },
  {
   "cell_type": "code",
   "execution_count": null,
   "metadata": {},
   "outputs": [],
   "source": [
    "sns.set(style='whitegrid', context='notebook')\n",
    "exp = df[:][:1000]\n",
    "sns.pairplot(exp[cols])\n",
    "plt.show()"
   ]
  },
  {
   "cell_type": "code",
   "execution_count": null,
   "metadata": {},
   "outputs": [],
   "source": [
    "len(cols)"
   ]
  },
  {
   "cell_type": "code",
   "execution_count": null,
   "metadata": {},
   "outputs": [],
   "source": []
  }
 ],
 "metadata": {
  "kernelspec": {
   "display_name": "Python 3",
   "language": "python",
   "name": "python3"
  },
  "language_info": {
   "codemirror_mode": {
    "name": "ipython",
    "version": 3
   },
   "file_extension": ".py",
   "mimetype": "text/x-python",
   "name": "python",
   "nbconvert_exporter": "python",
   "pygments_lexer": "ipython3",
   "version": "3.6.5"
  }
 },
 "nbformat": 4,
 "nbformat_minor": 2
}
